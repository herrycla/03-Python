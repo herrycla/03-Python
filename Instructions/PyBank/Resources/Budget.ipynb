{
 "cells": [
  {
   "cell_type": "code",
   "execution_count": 18,
   "metadata": {},
   "outputs": [
    {
     "name": "stdout",
     "output_type": "stream",
     "text": [
      "OrderedDict([('Date', 'Feb-2010'), ('Profit/Losses', '984655')])\n",
      "OrderedDict([('Date', 'Mar-2010'), ('Profit/Losses', '322013')])\n",
      "OrderedDict([('Date', 'Apr-2010'), ('Profit/Losses', '-69417')])\n",
      "OrderedDict([('Date', 'May-2010'), ('Profit/Losses', '310503')])\n",
      "OrderedDict([('Date', 'Jun-2010'), ('Profit/Losses', '522857')])\n",
      "OrderedDict([('Date', 'Jul-2010'), ('Profit/Losses', '1033096')])\n",
      "OrderedDict([('Date', 'Aug-2010'), ('Profit/Losses', '604885')])\n",
      "OrderedDict([('Date', 'Sep-2010'), ('Profit/Losses', '-216386')])\n",
      "OrderedDict([('Date', 'Oct-2010'), ('Profit/Losses', '477532')])\n",
      "OrderedDict([('Date', 'Nov-2010'), ('Profit/Losses', '893810')])\n",
      "OrderedDict([('Date', 'Dec-2010'), ('Profit/Losses', '-80353')])\n",
      "OrderedDict([('Date', 'Jan-2011'), ('Profit/Losses', '779806')])\n",
      "OrderedDict([('Date', 'Feb-2011'), ('Profit/Losses', '-335203')])\n",
      "OrderedDict([('Date', 'Mar-2011'), ('Profit/Losses', '697845')])\n",
      "OrderedDict([('Date', 'Apr-2011'), ('Profit/Losses', '793163')])\n",
      "OrderedDict([('Date', 'May-2011'), ('Profit/Losses', '485070')])\n",
      "OrderedDict([('Date', 'Jun-2011'), ('Profit/Losses', '584122')])\n",
      "OrderedDict([('Date', 'Jul-2011'), ('Profit/Losses', '62729')])\n",
      "OrderedDict([('Date', 'Aug-2011'), ('Profit/Losses', '668179')])\n",
      "OrderedDict([('Date', 'Sep-2011'), ('Profit/Losses', '899906')])\n",
      "OrderedDict([('Date', 'Oct-2011'), ('Profit/Losses', '834719')])\n",
      "OrderedDict([('Date', 'Nov-2011'), ('Profit/Losses', '132003')])\n",
      "OrderedDict([('Date', 'Dec-2011'), ('Profit/Losses', '309978')])\n",
      "OrderedDict([('Date', 'Jan-2012'), ('Profit/Losses', '-755566')])\n",
      "OrderedDict([('Date', 'Feb-2012'), ('Profit/Losses', '1170593')])\n",
      "OrderedDict([('Date', 'Mar-2012'), ('Profit/Losses', '252788')])\n",
      "OrderedDict([('Date', 'Apr-2012'), ('Profit/Losses', '1151518')])\n",
      "OrderedDict([('Date', 'May-2012'), ('Profit/Losses', '817256')])\n",
      "OrderedDict([('Date', 'Jun-2012'), ('Profit/Losses', '570757')])\n",
      "OrderedDict([('Date', 'Jul-2012'), ('Profit/Losses', '506702')])\n",
      "OrderedDict([('Date', 'Aug-2012'), ('Profit/Losses', '-1022534')])\n",
      "OrderedDict([('Date', 'Sep-2012'), ('Profit/Losses', '475062')])\n",
      "OrderedDict([('Date', 'Oct-2012'), ('Profit/Losses', '779976')])\n",
      "OrderedDict([('Date', 'Nov-2012'), ('Profit/Losses', '144175')])\n",
      "OrderedDict([('Date', 'Dec-2012'), ('Profit/Losses', '542494')])\n",
      "OrderedDict([('Date', 'Jan-2013'), ('Profit/Losses', '359333')])\n",
      "OrderedDict([('Date', 'Feb-2013'), ('Profit/Losses', '321469')])\n",
      "OrderedDict([('Date', 'Mar-2013'), ('Profit/Losses', '67780')])\n",
      "OrderedDict([('Date', 'Apr-2013'), ('Profit/Losses', '471435')])\n",
      "OrderedDict([('Date', 'May-2013'), ('Profit/Losses', '565603')])\n",
      "OrderedDict([('Date', 'Jun-2013'), ('Profit/Losses', '872480')])\n",
      "OrderedDict([('Date', 'Jul-2013'), ('Profit/Losses', '789480')])\n",
      "OrderedDict([('Date', 'Aug-2013'), ('Profit/Losses', '999942')])\n",
      "OrderedDict([('Date', 'Sep-2013'), ('Profit/Losses', '-1196225')])\n",
      "OrderedDict([('Date', 'Oct-2013'), ('Profit/Losses', '268997')])\n",
      "OrderedDict([('Date', 'Nov-2013'), ('Profit/Losses', '-687986')])\n",
      "OrderedDict([('Date', 'Dec-2013'), ('Profit/Losses', '1150461')])\n",
      "OrderedDict([('Date', 'Jan-2014'), ('Profit/Losses', '682458')])\n",
      "OrderedDict([('Date', 'Feb-2014'), ('Profit/Losses', '617856')])\n",
      "OrderedDict([('Date', 'Mar-2014'), ('Profit/Losses', '824098')])\n",
      "OrderedDict([('Date', 'Apr-2014'), ('Profit/Losses', '581943')])\n",
      "OrderedDict([('Date', 'May-2014'), ('Profit/Losses', '132864')])\n",
      "OrderedDict([('Date', 'Jun-2014'), ('Profit/Losses', '448062')])\n",
      "OrderedDict([('Date', 'Jul-2014'), ('Profit/Losses', '689161')])\n",
      "OrderedDict([('Date', 'Aug-2014'), ('Profit/Losses', '800701')])\n",
      "OrderedDict([('Date', 'Sep-2014'), ('Profit/Losses', '1166643')])\n",
      "OrderedDict([('Date', 'Oct-2014'), ('Profit/Losses', '947333')])\n",
      "OrderedDict([('Date', 'Nov-2014'), ('Profit/Losses', '578668')])\n",
      "OrderedDict([('Date', 'Dec-2014'), ('Profit/Losses', '988505')])\n",
      "OrderedDict([('Date', 'Jan-2015'), ('Profit/Losses', '1139715')])\n",
      "OrderedDict([('Date', 'Feb-2015'), ('Profit/Losses', '1029471')])\n",
      "OrderedDict([('Date', 'Mar-2015'), ('Profit/Losses', '687533')])\n",
      "OrderedDict([('Date', 'Apr-2015'), ('Profit/Losses', '-524626')])\n",
      "OrderedDict([('Date', 'May-2015'), ('Profit/Losses', '158620')])\n",
      "OrderedDict([('Date', 'Jun-2015'), ('Profit/Losses', '87795')])\n",
      "OrderedDict([('Date', 'Jul-2015'), ('Profit/Losses', '423389')])\n",
      "OrderedDict([('Date', 'Aug-2015'), ('Profit/Losses', '840723')])\n",
      "OrderedDict([('Date', 'Sep-2015'), ('Profit/Losses', '568529')])\n",
      "OrderedDict([('Date', 'Oct-2015'), ('Profit/Losses', '332067')])\n",
      "OrderedDict([('Date', 'Nov-2015'), ('Profit/Losses', '989499')])\n",
      "OrderedDict([('Date', 'Dec-2015'), ('Profit/Losses', '778237')])\n",
      "OrderedDict([('Date', 'Jan-2016'), ('Profit/Losses', '650000')])\n",
      "OrderedDict([('Date', 'Feb-2016'), ('Profit/Losses', '-1100387')])\n",
      "OrderedDict([('Date', 'Mar-2016'), ('Profit/Losses', '-174946')])\n",
      "OrderedDict([('Date', 'Apr-2016'), ('Profit/Losses', '757143')])\n",
      "OrderedDict([('Date', 'May-2016'), ('Profit/Losses', '445709')])\n",
      "OrderedDict([('Date', 'Jun-2016'), ('Profit/Losses', '712961')])\n",
      "OrderedDict([('Date', 'Jul-2016'), ('Profit/Losses', '-1163797')])\n",
      "OrderedDict([('Date', 'Aug-2016'), ('Profit/Losses', '569899')])\n",
      "OrderedDict([('Date', 'Sep-2016'), ('Profit/Losses', '768450')])\n",
      "OrderedDict([('Date', 'Oct-2016'), ('Profit/Losses', '102685')])\n",
      "OrderedDict([('Date', 'Nov-2016'), ('Profit/Losses', '795914')])\n",
      "OrderedDict([('Date', 'Dec-2016'), ('Profit/Losses', '60988')])\n",
      "OrderedDict([('Date', 'Jan-2017'), ('Profit/Losses', '138230')])\n",
      "OrderedDict([('Date', 'Feb-2017'), ('Profit/Losses', '671099')])\n"
     ]
    }
   ],
   "source": [
    "import csv\n",
    "with open('budget_data.csv', 'r') as csv_file:\n",
    "    csv_reader = csv.DictReader(csv_file)\n",
    "    next(csv_reader)\n",
    "    for line in csv_reader:\n",
    "        print(line)\n"
   ]
  },
  {
   "cell_type": "code",
   "execution_count": 30,
   "metadata": {},
   "outputs": [
    {
     "ename": "TypeError",
     "evalue": "descriptor 'count' requires a 'list' object but received a 'str'",
     "output_type": "error",
     "traceback": [
      "\u001b[1;31m---------------------------------------------------------------------------\u001b[0m",
      "\u001b[1;31mTypeError\u001b[0m                                 Traceback (most recent call last)",
      "\u001b[1;32m<ipython-input-30-ceb24913cf55>\u001b[0m in \u001b[0;36m<module>\u001b[1;34m\u001b[0m\n\u001b[1;32m----> 1\u001b[1;33m \u001b[0mlist\u001b[0m\u001b[1;33m.\u001b[0m\u001b[0mcount\u001b[0m\u001b[1;33m(\u001b[0m\u001b[1;34m'Date'\u001b[0m\u001b[1;33m)\u001b[0m\u001b[1;33m\u001b[0m\u001b[1;33m\u001b[0m\u001b[0m\n\u001b[0m",
      "\u001b[1;31mTypeError\u001b[0m: descriptor 'count' requires a 'list' object but received a 'str'"
     ]
    }
   ],
   "source": [
    "# months list\n",
    "vowels = ['a', 'e', 'i', 'o', 'i', 'u']\n",
    "\n",
    "# count element 'i'\n",
    "count = vowels.count('i')\n",
    "\n",
    "# print count\n",
    "print('The count of i is:', count)\n",
    "\n",
    "# count element 'p'\n",
    "count = vowels.count('p')\n",
    "\n",
    "# print count\n",
    "print('The count of p is:', count)"
   ]
  },
  {
   "cell_type": "code",
   "execution_count": 28,
   "metadata": {},
   "outputs": [
    {
     "ename": "KeyError",
     "evalue": "'date'",
     "output_type": "error",
     "traceback": [
      "\u001b[1;31m---------------------------------------------------------------------------\u001b[0m",
      "\u001b[1;31mKeyError\u001b[0m                                  Traceback (most recent call last)",
      "\u001b[1;32m<ipython-input-28-1966ab7523d6>\u001b[0m in \u001b[0;36m<module>\u001b[1;34m\u001b[0m\n\u001b[1;32m----> 1\u001b[1;33m \u001b[0mgroupby_count1\u001b[0m \u001b[1;33m=\u001b[0m \u001b[0mdf\u001b[0m\u001b[1;33m.\u001b[0m\u001b[0mgroupby\u001b[0m\u001b[1;33m(\u001b[0m\u001b[1;33m[\u001b[0m\u001b[1;34m'date'\u001b[0m\u001b[1;33m]\u001b[0m\u001b[1;33m)\u001b[0m\u001b[1;33m.\u001b[0m\u001b[0mcount\u001b[0m\u001b[1;33m(\u001b[0m\u001b[1;33m)\u001b[0m\u001b[1;33m\u001b[0m\u001b[1;33m\u001b[0m\u001b[0m\n\u001b[0m",
      "\u001b[1;32m~\\Anaconda3\\lib\\site-packages\\pandas\\core\\generic.py\u001b[0m in \u001b[0;36mgroupby\u001b[1;34m(self, by, axis, level, as_index, sort, group_keys, squeeze, observed, **kwargs)\u001b[0m\n\u001b[0;32m   7892\u001b[0m             \u001b[0msqueeze\u001b[0m\u001b[1;33m=\u001b[0m\u001b[0msqueeze\u001b[0m\u001b[1;33m,\u001b[0m\u001b[1;33m\u001b[0m\u001b[1;33m\u001b[0m\u001b[0m\n\u001b[0;32m   7893\u001b[0m             \u001b[0mobserved\u001b[0m\u001b[1;33m=\u001b[0m\u001b[0mobserved\u001b[0m\u001b[1;33m,\u001b[0m\u001b[1;33m\u001b[0m\u001b[1;33m\u001b[0m\u001b[0m\n\u001b[1;32m-> 7894\u001b[1;33m             \u001b[1;33m**\u001b[0m\u001b[0mkwargs\u001b[0m\u001b[1;33m\u001b[0m\u001b[1;33m\u001b[0m\u001b[0m\n\u001b[0m\u001b[0;32m   7895\u001b[0m         )\n\u001b[0;32m   7896\u001b[0m \u001b[1;33m\u001b[0m\u001b[0m\n",
      "\u001b[1;32m~\\Anaconda3\\lib\\site-packages\\pandas\\core\\groupby\\groupby.py\u001b[0m in \u001b[0;36mgroupby\u001b[1;34m(obj, by, **kwds)\u001b[0m\n\u001b[0;32m   2520\u001b[0m         \u001b[1;32mraise\u001b[0m \u001b[0mTypeError\u001b[0m\u001b[1;33m(\u001b[0m\u001b[1;34m\"invalid type: {}\"\u001b[0m\u001b[1;33m.\u001b[0m\u001b[0mformat\u001b[0m\u001b[1;33m(\u001b[0m\u001b[0mobj\u001b[0m\u001b[1;33m)\u001b[0m\u001b[1;33m)\u001b[0m\u001b[1;33m\u001b[0m\u001b[1;33m\u001b[0m\u001b[0m\n\u001b[0;32m   2521\u001b[0m \u001b[1;33m\u001b[0m\u001b[0m\n\u001b[1;32m-> 2522\u001b[1;33m     \u001b[1;32mreturn\u001b[0m \u001b[0mklass\u001b[0m\u001b[1;33m(\u001b[0m\u001b[0mobj\u001b[0m\u001b[1;33m,\u001b[0m \u001b[0mby\u001b[0m\u001b[1;33m,\u001b[0m \u001b[1;33m**\u001b[0m\u001b[0mkwds\u001b[0m\u001b[1;33m)\u001b[0m\u001b[1;33m\u001b[0m\u001b[1;33m\u001b[0m\u001b[0m\n\u001b[0m",
      "\u001b[1;32m~\\Anaconda3\\lib\\site-packages\\pandas\\core\\groupby\\groupby.py\u001b[0m in \u001b[0;36m__init__\u001b[1;34m(self, obj, keys, axis, level, grouper, exclusions, selection, as_index, sort, group_keys, squeeze, observed, **kwargs)\u001b[0m\n\u001b[0;32m    389\u001b[0m                 \u001b[0msort\u001b[0m\u001b[1;33m=\u001b[0m\u001b[0msort\u001b[0m\u001b[1;33m,\u001b[0m\u001b[1;33m\u001b[0m\u001b[1;33m\u001b[0m\u001b[0m\n\u001b[0;32m    390\u001b[0m                 \u001b[0mobserved\u001b[0m\u001b[1;33m=\u001b[0m\u001b[0mobserved\u001b[0m\u001b[1;33m,\u001b[0m\u001b[1;33m\u001b[0m\u001b[1;33m\u001b[0m\u001b[0m\n\u001b[1;32m--> 391\u001b[1;33m                 \u001b[0mmutated\u001b[0m\u001b[1;33m=\u001b[0m\u001b[0mself\u001b[0m\u001b[1;33m.\u001b[0m\u001b[0mmutated\u001b[0m\u001b[1;33m,\u001b[0m\u001b[1;33m\u001b[0m\u001b[1;33m\u001b[0m\u001b[0m\n\u001b[0m\u001b[0;32m    392\u001b[0m             )\n\u001b[0;32m    393\u001b[0m \u001b[1;33m\u001b[0m\u001b[0m\n",
      "\u001b[1;32m~\\Anaconda3\\lib\\site-packages\\pandas\\core\\groupby\\grouper.py\u001b[0m in \u001b[0;36m_get_grouper\u001b[1;34m(obj, key, axis, level, sort, observed, mutated, validate)\u001b[0m\n\u001b[0;32m    619\u001b[0m                 \u001b[0min_axis\u001b[0m\u001b[1;33m,\u001b[0m \u001b[0mname\u001b[0m\u001b[1;33m,\u001b[0m \u001b[0mlevel\u001b[0m\u001b[1;33m,\u001b[0m \u001b[0mgpr\u001b[0m \u001b[1;33m=\u001b[0m \u001b[1;32mFalse\u001b[0m\u001b[1;33m,\u001b[0m \u001b[1;32mNone\u001b[0m\u001b[1;33m,\u001b[0m \u001b[0mgpr\u001b[0m\u001b[1;33m,\u001b[0m \u001b[1;32mNone\u001b[0m\u001b[1;33m\u001b[0m\u001b[1;33m\u001b[0m\u001b[0m\n\u001b[0;32m    620\u001b[0m             \u001b[1;32melse\u001b[0m\u001b[1;33m:\u001b[0m\u001b[1;33m\u001b[0m\u001b[1;33m\u001b[0m\u001b[0m\n\u001b[1;32m--> 621\u001b[1;33m                 \u001b[1;32mraise\u001b[0m \u001b[0mKeyError\u001b[0m\u001b[1;33m(\u001b[0m\u001b[0mgpr\u001b[0m\u001b[1;33m)\u001b[0m\u001b[1;33m\u001b[0m\u001b[1;33m\u001b[0m\u001b[0m\n\u001b[0m\u001b[0;32m    622\u001b[0m         \u001b[1;32melif\u001b[0m \u001b[0misinstance\u001b[0m\u001b[1;33m(\u001b[0m\u001b[0mgpr\u001b[0m\u001b[1;33m,\u001b[0m \u001b[0mGrouper\u001b[0m\u001b[1;33m)\u001b[0m \u001b[1;32mand\u001b[0m \u001b[0mgpr\u001b[0m\u001b[1;33m.\u001b[0m\u001b[0mkey\u001b[0m \u001b[1;32mis\u001b[0m \u001b[1;32mnot\u001b[0m \u001b[1;32mNone\u001b[0m\u001b[1;33m:\u001b[0m\u001b[1;33m\u001b[0m\u001b[1;33m\u001b[0m\u001b[0m\n\u001b[0;32m    623\u001b[0m             \u001b[1;31m# Add key to exclusions\u001b[0m\u001b[1;33m\u001b[0m\u001b[1;33m\u001b[0m\u001b[1;33m\u001b[0m\u001b[0m\n",
      "\u001b[1;31mKeyError\u001b[0m: 'date'"
     ]
    }
   ],
   "source": [
    "groupby_count1 = df.groupby(['date']).count()"
   ]
  },
  {
   "cell_type": "code",
   "execution_count": null,
   "metadata": {},
   "outputs": [],
   "source": []
  }
 ],
 "metadata": {
  "kernelspec": {
   "display_name": "Python 3",
   "language": "python",
   "name": "python3"
  },
  "language_info": {
   "codemirror_mode": {
    "name": "ipython",
    "version": 3
   },
   "file_extension": ".py",
   "mimetype": "text/x-python",
   "name": "python",
   "nbconvert_exporter": "python",
   "pygments_lexer": "ipython3",
   "version": "3.7.4"
  }
 },
 "nbformat": 4,
 "nbformat_minor": 4
}
