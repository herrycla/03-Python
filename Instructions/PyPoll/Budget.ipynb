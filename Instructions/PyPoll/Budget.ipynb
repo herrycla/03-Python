{
 "cells": [
  {
   "cell_type": "code",
   "execution_count": 87,
   "metadata": {},
   "outputs": [],
   "source": [
    "import os\n",
    "import csv\n",
    "election_data = os.path.join(\"election_data.csv\")\n",
    "\n",
    "bank_csv = os.path.join('Resources', 'election_data.csv')\n",
    "\n",
    "#define variables\n",
    "total_votes = 0\n",
    "candidates = {}\n",
    "candidates_percent = {}\n",
    "winner = \"\"\n",
    "winner_count = 0\n"
   ]
  },
  {
   "cell_type": "code",
   "execution_count": 88,
   "metadata": {},
   "outputs": [],
   "source": [
    "# Open and read csv\n",
    "with open(bank_csv, newline=\"\") as csvfile:\n",
    "    csvreader = csv.reader(csvfile, delimiter=\",\")\n",
    "    csv_header = next(csvfile)\n",
    "    #grab first row\n",
    "    firstrow = next(csvreader)\n",
    "    for row in csvreader:\n",
    "        total_votes = total_votes + 1\n",
    "        if row[2] in candidates.keys():\n",
    "            candidates[row[2]] += 1\n",
    "        else:\n",
    "            candidates[row[2]] = 1\n",
    "            for key, value in candidates.items():\n",
    "                candidates_percent[key] = round((value/total_votes)*100,2)\n",
    "\n",
    "for key in candidates.keys():\n",
    "    if candidates[key] > winner_count:\n",
    "        winner = key\n",
    "        winner_count = candidates[key]"
   ]
  },
  {
   "cell_type": "code",
   "execution_count": 89,
   "metadata": {},
   "outputs": [
    {
     "name": "stdout",
     "output_type": "stream",
     "text": "Election Results\n-------------------------------------\nTotal Votes: 3521000\n-------------------------------------\nCorrey: 28.26% (704200)\nKhan: 63.04% (2218230)\nLi: 6.52% (492940)\nO'Tooley: 2.17% (105630)\n-------------------------------------\nWinner: Khan\n-------------------------------------\n"
    }
   ],
   "source": [
    "print(\"Election Results\")\n",
    "print(\"-------------------------------------\")\n",
    "print(\"Total Votes: \" + str(total_votes))\n",
    "print(\"-------------------------------------\")\n",
    "for key, value in candidates.items():\n",
    "    print(key + \": \" + str(candidates_percent[key]) + \"% (\" + str(value) + \")\")\n",
    "print(\"-------------------------------------\")\n",
    "print(\"Winner: \" + winner)\n",
    "print(\"-------------------------------------\")"
   ]
  },
  {
   "cell_type": "code",
   "execution_count": null,
   "metadata": {},
   "outputs": [],
   "source": [
    "new_file = open(\"pollresults.txt\", \"w\")\n",
    "\n",
    "# writing the new file\n",
    "new_file.write(\"Election Results \\n\")\n",
    "new_file.write(\"------------------------------------- \\n\")\n",
    "new_file.write(\"Total Votes: \" + str(total_votes) + \"\\n\")\n",
    "new_file.write(\"------------------------------------- \\n\")\n",
    "for key, value in candidates.items():\n",
    "    new_file.write(key + \": \" + str(candidates_percent[key]) + \"% (\" + str(value) + \") \\n\")\n",
    "new_file.write(\"------------------------------------- \\n\")\n",
    "new_file.write(\"Winner: \" + winner + \"\\n\")\n",
    "new_file.write(\"------------------------------------- \\n\")"
   ]
  }
 ],
 "metadata": {
  "kernelspec": {
   "display_name": "Python 3",
   "language": "python",
   "name": "python3"
  },
  "language_info": {
   "codemirror_mode": {
    "name": "ipython",
    "version": 3
   },
   "file_extension": ".py",
   "mimetype": "text/x-python",
   "name": "python",
   "nbconvert_exporter": "python",
   "pygments_lexer": "ipython3",
   "version": "3.7.4-final"
  }
 },
 "nbformat": 4,
 "nbformat_minor": 4
}